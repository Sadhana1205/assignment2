{
 "cells": [
  {
   "cell_type": "code",
   "execution_count": 1,
   "id": "b841e4bf",
   "metadata": {},
   "outputs": [
    {
     "data": {
      "text/plain": [
       "'sadhana'"
      ]
     },
     "execution_count": 1,
     "metadata": {},
     "output_type": "execute_result"
    }
   ],
   "source": [
    "#1.write a program to  convert a string to Lower case\n",
    "y=\"SADHANA\"\n",
    "y.lower()"
   ]
  },
  {
   "cell_type": "code",
   "execution_count": 2,
   "id": "57dc9e78",
   "metadata": {},
   "outputs": [
    {
     "data": {
      "text/plain": [
       "'string'"
      ]
     },
     "execution_count": 2,
     "metadata": {},
     "output_type": "execute_result"
    }
   ],
   "source": [
    "z=\"STRING\"\n",
    "z.lower()"
   ]
  },
  {
   "cell_type": "code",
   "execution_count": 5,
   "id": "3bf512dd",
   "metadata": {},
   "outputs": [
    {
     "data": {
      "text/plain": [
       "'PyThOn'"
      ]
     },
     "execution_count": 5,
     "metadata": {},
     "output_type": "execute_result"
    }
   ],
   "source": [
    "#2.To convert only odd indexed characters to lower case\n",
    "z=\"PYTHON\"\n",
    "z[0]+z[1].lower()+z[2]+z[3].lower()+z[4]+z[5].lower()"
   ]
  },
  {
   "cell_type": "code",
   "execution_count": 9,
   "id": "ee7466ff",
   "metadata": {},
   "outputs": [
    {
     "data": {
      "text/plain": [
       "'pYtHoN'"
      ]
     },
     "execution_count": 9,
     "metadata": {},
     "output_type": "execute_result"
    }
   ],
   "source": [
    "#3.To convert even indexed characters to lower case\n",
    "z=\"PYTHON\"\n",
    "z[0].lower()+z[1]+z[2].lower()+z[3]+z[4].lower()+z[5]"
   ]
  },
  {
   "cell_type": "code",
   "execution_count": 10,
   "id": "f67b7cf7",
   "metadata": {},
   "outputs": [
    {
     "data": {
      "text/plain": [
       "'PyThOn'"
      ]
     },
     "execution_count": 10,
     "metadata": {},
     "output_type": "execute_result"
    }
   ],
   "source": [
    "#4.To convert only odd indexed characters to upper case\n",
    "x=\"python\"\n",
    "x[0].upper()+x[1]+x[2].upper()+x[3]+x[4].upper()+x[5]"
   ]
  },
  {
   "cell_type": "code",
   "execution_count": 13,
   "id": "8e1e117a",
   "metadata": {},
   "outputs": [],
   "source": [
    "#6.python where you have different variable with your bio data\n",
    "name=\"chinni\"\n",
    "age=\"21\"\n",
    "sex=\"female\"\n",
    "ph_no=\"123456789\"\n",
    "fathername=\"sri ramulu\"\n",
    "mothername=\"sridevi\""
   ]
  },
  {
   "cell_type": "code",
   "execution_count": 16,
   "id": "71ad2c15",
   "metadata": {},
   "outputs": [
    {
     "data": {
      "text/plain": [
       "'`my name ischinni,my age is21,my sex isfemale,my ph_no is 123456789,my father name issri ramulu,my mother name is sridevi'"
      ]
     },
     "execution_count": 16,
     "metadata": {},
     "output_type": "execute_result"
    }
   ],
   "source": [
    "\"`my name is{},my age is{},my sex is{},my ph_no is {},my father name is{},my mother name is {}\".format(name,age,sex,ph_no,fathername,mothername)"
   ]
  },
  {
   "cell_type": "code",
   "execution_count": 17,
   "id": "d06e6dcc",
   "metadata": {},
   "outputs": [
    {
     "data": {
      "text/plain": [
       "4"
      ]
     },
     "execution_count": 17,
     "metadata": {},
     "output_type": "execute_result"
    }
   ],
   "source": [
    "#7.python program to count how many times \"@\" occured\n",
    "z=\"chinni@@@@%$232\"\n",
    "z.count(\"@\")"
   ]
  },
  {
   "cell_type": "code",
   "execution_count": 18,
   "id": "f1c058a1",
   "metadata": {},
   "outputs": [
    {
     "data": {
      "text/plain": [
       "1"
      ]
     },
     "execution_count": 18,
     "metadata": {},
     "output_type": "execute_result"
    }
   ],
   "source": [
    "x=\"2334@n@n&88@#&&4\"\n",
    "x.count(\"#\")"
   ]
  },
  {
   "cell_type": "code",
   "execution_count": 23,
   "id": "b19d58c9",
   "metadata": {},
   "outputs": [
    {
     "data": {
      "text/plain": [
       "('name1', 'name2', ',name')"
      ]
     },
     "execution_count": 23,
     "metadata": {},
     "output_type": "execute_result"
    }
   ],
   "source": [
    "#8.python program to get only names from the string\n",
    "v=\"name1.@gmail.com,name2.@gmail.com,name3.@gamil.com\"\n",
    "v[0:5],v[17:22],v[33:38]"
   ]
  },
  {
   "cell_type": "code",
   "execution_count": 24,
   "id": "0de9f119",
   "metadata": {},
   "outputs": [
    {
     "data": {
      "text/plain": [
       "'mei'"
      ]
     },
     "execution_count": 24,
     "metadata": {},
     "output_type": "execute_result"
    }
   ],
   "source": [
    "#9.string of odd length greater than 9,return a new string mafe of the middle three characters\n",
    "x=\"mynameissan\"\n",
    "x[4:7]"
   ]
  },
  {
   "cell_type": "code",
   "execution_count": 26,
   "id": "97d6e074",
   "metadata": {},
   "outputs": [
    {
     "data": {
      "text/plain": [
       "'msayn'"
      ]
     },
     "execution_count": 26,
     "metadata": {},
     "output_type": "execute_result"
    }
   ],
   "source": [
    "#10.python program to insert a 2 strings in the middle of one string\n",
    "x=\"myn\"\n",
    "y=\"sa\"\n",
    "x[0:1]+y+x[1:4]"
   ]
  },
  {
   "cell_type": "code",
   "execution_count": 27,
   "id": "052b6771",
   "metadata": {},
   "outputs": [
    {
     "data": {
      "text/plain": [
       "'bcdfghjklmnpqrstvwxyz'"
      ]
     },
     "execution_count": 27,
     "metadata": {},
     "output_type": "execute_result"
    }
   ],
   "source": [
    "#11.to remove vowels from the entire string\n",
    "x=\"abcdefghijklmnopqrstuvwxyz\"\n",
    "x.replace(\"a\",\"\").replace(\"e\",\"\").replace(\"i\",\"\").replace(\"o\",\"\").replace(\"u\",\"\")"
   ]
  }
 ],
 "metadata": {
  "kernelspec": {
   "display_name": "Python 3 (ipykernel)",
   "language": "python",
   "name": "python3"
  },
  "language_info": {
   "codemirror_mode": {
    "name": "ipython",
    "version": 3
   },
   "file_extension": ".py",
   "mimetype": "text/x-python",
   "name": "python",
   "nbconvert_exporter": "python",
   "pygments_lexer": "ipython3",
   "version": "3.9.13"
  }
 },
 "nbformat": 4,
 "nbformat_minor": 5
}
